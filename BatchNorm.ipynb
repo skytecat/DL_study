{
  "nbformat": 4,
  "nbformat_minor": 0,
  "metadata": {
    "colab": {
      "provenance": [],
      "authorship_tag": "ABX9TyObTPvNsvjXB79hFW5zVTVj",
      "include_colab_link": true
    },
    "kernelspec": {
      "name": "python3",
      "display_name": "Python 3"
    },
    "language_info": {
      "name": "python"
    }
  },
  "cells": [
    {
      "cell_type": "markdown",
      "metadata": {
        "id": "view-in-github",
        "colab_type": "text"
      },
      "source": [
        "<a href=\"https://colab.research.google.com/github/skytecat/DL_study/blob/main/BatchNorm.ipynb\" target=\"_parent\"><img src=\"https://colab.research.google.com/assets/colab-badge.svg\" alt=\"Open In Colab\"/></a>"
      ]
    },
    {
      "cell_type": "code",
      "execution_count": 26,
      "metadata": {
        "colab": {
          "base_uri": "https://localhost:8080/"
        },
        "id": "tVNFSvM9rKcu",
        "outputId": "cbd09703-5027-45fc-aa73-ee29b4b8b7c2"
      },
      "outputs": [
        {
          "output_type": "stream",
          "name": "stdout",
          "text": [
            "input: tensor([[ 0.,  0.,  1.,  0.,  2.],\n",
            "        [ 0.,  1.,  1.,  0., 10.]])\n",
            "tensor([0.6000, 2.4000])\n",
            "\n",
            "CORRECT:\n",
            "tensor([[ 0.0000, -1.0000,  0.0000,  0.0000, -1.0000],\n",
            "        [ 0.0000,  1.0000,  0.0000,  0.0000,  1.0000]])\n"
          ]
        }
      ],
      "source": [
        "import numpy as np\n",
        "import torch\n",
        "import torch.nn as nn\n",
        "\n",
        "def custom_batch_norm1d(input_tensor, eps):\n",
        "    print(f'input: {input_tensor}')\n",
        "    print(input_tensor.mean(dim=1)) # E для каждого батча\n",
        "\n",
        "    normed_tensor = torch.Tensor([[0.0, 0, 1, 0, 2], [0, 1, 1, 0, 10]])\n",
        "    return normed_tensor\n",
        "\n",
        "\n",
        "input_tensor = torch.Tensor([[0.0, 0, 1, 0, 2], [0, 1, 1, 0, 10]])\n",
        "batch_norm = nn.BatchNorm1d(input_tensor.shape[1], affine=False)\n",
        "\n",
        "custom_batch_norm1d(input_tensor, 10)\n",
        "print()\n",
        "print('CORRECT:')\n",
        "print(batch_norm(input_tensor))\n",
        "# print(batch_norm(input_tensor).shape)\n",
        "\n",
        "\n",
        "# Проверка происходит автоматически вызовом следующего кода\n",
        "# (раскомментируйте для самостоятельной проверки,\n",
        "#  в коде для сдачи задания должно быть закомментировано):\n",
        "# import numpy as np\n",
        "# all_correct = True\n",
        "# for eps_power in range(10):\n",
        "#     eps = np.power(10., -eps_power)\n",
        "#     batch_norm.eps = eps\n",
        "#     batch_norm_out = batch_norm(input_tensor)\n",
        "#     custom_batch_norm_out = custom_batch_norm1d(input_tensor, eps)\n",
        "\n",
        "#     all_correct &= torch.allclose(batch_norm_out, custom_batch_norm_out)\n",
        "#     all_correct &= batch_norm_out.shape == custom_batch_norm_out.shape\n",
        "# print(all_correct)"
      ]
    }
  ]
}