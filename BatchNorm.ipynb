{
  "nbformat": 4,
  "nbformat_minor": 0,
  "metadata": {
    "colab": {
      "provenance": [],
      "authorship_tag": "ABX9TyNtXglBA/WawsiKau6P0Qkz",
      "include_colab_link": true
    },
    "kernelspec": {
      "name": "python3",
      "display_name": "Python 3"
    },
    "language_info": {
      "name": "python"
    }
  },
  "cells": [
    {
      "cell_type": "markdown",
      "metadata": {
        "id": "view-in-github",
        "colab_type": "text"
      },
      "source": [
        "<a href=\"https://colab.research.google.com/github/skytecat/DL_study/blob/main/BatchNorm.ipynb\" target=\"_parent\"><img src=\"https://colab.research.google.com/assets/colab-badge.svg\" alt=\"Open In Colab\"/></a>"
      ]
    },
    {
      "cell_type": "code",
      "execution_count": 74,
      "metadata": {
        "colab": {
          "base_uri": "https://localhost:8080/"
        },
        "id": "tVNFSvM9rKcu",
        "outputId": "553dc009-b815-41a8-accd-a191c8a223d3"
      },
      "outputs": [
        {
          "output_type": "stream",
          "name": "stdout",
          "text": [
            "True\n"
          ]
        }
      ],
      "source": [
        "import numpy as np\n",
        "import torch\n",
        "import torch.nn as nn\n",
        "\n",
        "def custom_batch_norm1d(input_tensor, eps):\n",
        "    # Вычисляем среднее по батчу (по измерению 0)\n",
        "    mean = input_tensor.mean(dim=0)\n",
        "\n",
        "    # Вычисляем дисперсию по батчу (смещенная оценка)\n",
        "    var = input_tensor.var(dim=0, unbiased=False)\n",
        "\n",
        "    # Нормализуем данные\n",
        "    normed_tensor = (input_tensor - mean) / torch.sqrt(var + eps)\n",
        "\n",
        "    return normed_tensor\n",
        "\n",
        "\n",
        "input_tensor = torch.Tensor([[0.0, 0, 1, 0, 2], [0, 1, 1, 0, 10]])\n",
        "batch_norm = nn.BatchNorm1d(input_tensor.shape[1], affine=False)\n",
        "\n",
        "# custom_batch_norm1d(input_tensor, 0)\n",
        "# print()\n",
        "# print('CORRECT:')\n",
        "# print(batch_norm(input_tensor))\n",
        "# print(batch_norm(input_tensor).shape)\n",
        "\n",
        "\n",
        "# Проверка происходит автоматически вызовом следующего кода\n",
        "# (раскомментируйте для самостоятельной проверки,\n",
        "#  в коде для сдачи задания должно быть закомментировано):\n",
        "# import numpy as np\n",
        "all_correct = True\n",
        "for eps_power in range(10):\n",
        "    eps = np.power(10., -eps_power)\n",
        "    batch_norm.eps = eps\n",
        "    batch_norm_out = batch_norm(input_tensor)\n",
        "    custom_batch_norm_out = custom_batch_norm1d(input_tensor, eps)\n",
        "\n",
        "    all_correct &= torch.allclose(batch_norm_out, custom_batch_norm_out)\n",
        "    all_correct &= batch_norm_out.shape == custom_batch_norm_out.shape\n",
        "print(all_correct)"
      ]
    }
  ]
}